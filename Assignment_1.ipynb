{
 "cells": [
  {
   "cell_type": "code",
   "execution_count": null,
   "id": "5d47a1a8-35e0-4349-8a95-10e8da8ff1a0",
   "metadata": {},
   "outputs": [],
   "source": [
    "Q1. What is database? Different between SQL and NoSQL databses."
   ]
  },
  {
   "cell_type": "code",
   "execution_count": null,
   "id": "ea151749-b6ca-4bea-ac8b-cf324d4f5859",
   "metadata": {},
   "outputs": [],
   "source": [
    "Ans. Data base is collection of organized data. SQL is structured query language\n",
    "and No SQL is not only a structured query langauge"
   ]
  },
  {
   "cell_type": "code",
   "execution_count": null,
   "id": "90d8660e-24cd-4109-9905-797615964596",
   "metadata": {},
   "outputs": [],
   "source": [
    "Q2. What is DDL? Explain why CREATE, DROP, ALTER, and TRUNCATE are used with an example."
   ]
  },
  {
   "cell_type": "code",
   "execution_count": null,
   "id": "ef2a1793-bb13-47aa-b326-1e5340623071",
   "metadata": {},
   "outputs": [],
   "source": [
    "Ans. DDL is subset od SQl and a part of DBMS the full form of DDL is data defination \n",
    "langauge. CREATE, DROP, ALTER, and TRUNCATE are used to create and modify the tables \n",
    "in SQL."
   ]
  },
  {
   "cell_type": "code",
   "execution_count": null,
   "id": "2104cef4-d448-4c6d-9e29-27a3d64d526e",
   "metadata": {},
   "outputs": [],
   "source": [
    "Q3. What is DML? Explain INSERT, UPDATE, and DELETE with an example."
   ]
  },
  {
   "cell_type": "code",
   "execution_count": null,
   "id": "fb3dd91a-84a1-4cfb-a17b-220c8c43b316",
   "metadata": {},
   "outputs": [],
   "source": [
    "Ans. The full form DML is data manipulation langauge and DML is also a subset of \n",
    "SQl. INSERT adds table row values. UPDATE is used to update the values of a column in \n",
    "a table DELETE is used to delete a particular row in table."
   ]
  },
  {
   "cell_type": "code",
   "execution_count": null,
   "id": "ddb03957-11da-4b0c-822d-a9eff36ea3fb",
   "metadata": {},
   "outputs": [],
   "source": [
    "Q4. What is DQL? Explain SELECT with an example."
   ]
  },
  {
   "cell_type": "code",
   "execution_count": null,
   "id": "347c9b04-f21b-4bcb-a992-d2fa522514fa",
   "metadata": {},
   "outputs": [],
   "source": [
    "Ans. The full form of DQL is data query langauge it is computer langauge that are used \n",
    "to make various queries in databases. with thr help of select the result are shown \n",
    "only which that are taken un select * from."
   ]
  },
  {
   "cell_type": "code",
   "execution_count": null,
   "id": "60e4a693-c704-497c-b9ba-a6364364dd86",
   "metadata": {},
   "outputs": [],
   "source": [
    "Q5. Explain Primary Key and Foreign Key."
   ]
  },
  {
   "cell_type": "code",
   "execution_count": null,
   "id": "6f6aea14-74e7-4134-8abc-c061986f5c88",
   "metadata": {},
   "outputs": [],
   "source": [
    "Ans. A primary key is used to ensure data in the specific column is unique.\n",
    "A foreign key is a column or group of columns in a relational database\n",
    "table that provides a link between data in two tables."
   ]
  },
  {
   "cell_type": "code",
   "execution_count": null,
   "id": "510a137d-8904-4fa3-8d01-605285424447",
   "metadata": {},
   "outputs": [],
   "source": [
    "Q6. Write a python code to connect MySQL to python. Explain the cursor() and execute() method."
   ]
  },
  {
   "cell_type": "code",
   "execution_count": null,
   "id": "200b3fca-d988-4add-9e79-5dbb8cc29dd2",
   "metadata": {},
   "outputs": [],
   "source": [
    "Ans. \n",
    "\n",
    "import mysql.connector\n",
    "mydb = mysql.connector.connect(\n",
    "  host=\"localhost\",\n",
    "  user=\"abc\",\n",
    "  password=\"password\"\n",
    ")\n",
    "\n",
    "cursor() is created by the connection\n",
    "execute() is the cintext of the database \n"
   ]
  },
  {
   "cell_type": "code",
   "execution_count": null,
   "id": "1fb798e1-ed6d-4f39-99e5-02c50cb0d23b",
   "metadata": {},
   "outputs": [],
   "source": [
    "Q7. Give the order of execution of SQL clauses in an SQL query."
   ]
  },
  {
   "cell_type": "code",
   "execution_count": null,
   "id": "a66f30e8-6f5e-48bb-a857-e646225e6d6a",
   "metadata": {},
   "outputs": [],
   "source": [
    "Ans. The SQL order of execution defines the order\n",
    "in which the clauses ofa query are evaluated.\n",
    "Understanding query order can help you optimize your queries."
   ]
  }
 ],
 "metadata": {
  "kernelspec": {
   "display_name": "Python 3 (ipykernel)",
   "language": "python",
   "name": "python3"
  },
  "language_info": {
   "codemirror_mode": {
    "name": "ipython",
    "version": 3
   },
   "file_extension": ".py",
   "mimetype": "text/x-python",
   "name": "python",
   "nbconvert_exporter": "python",
   "pygments_lexer": "ipython3",
   "version": "3.10.8"
  }
 },
 "nbformat": 4,
 "nbformat_minor": 5
}
